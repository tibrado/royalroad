{
 "cells": [
  {
   "cell_type": "code",
   "execution_count": 34,
   "metadata": {},
   "outputs": [],
   "source": [
    "# Imports\n",
    "import pandas as pd\n",
    "import numpy as np \n",
    "import matplotlib.pyplot as plt\n",
    "from sklearn.model_selection import cross_val_score, train_test_split, GridSearchCV, ShuffleSplit\n",
    "from sklearn.ensemble import RandomForestRegressor, RandomForestClassifier\n",
    "from sklearn.decomposition import NMF\n",
    "from sklearn.metrics import r2_score\n",
    "from collections import defaultdict\n",
    "\n",
    "%matplotlib inline\n",
    "\n",
    "plt.style.use('seaborn')"
   ]
  },
  {
   "cell_type": "code",
   "execution_count": 3,
   "metadata": {},
   "outputs": [],
   "source": [
    "# Get data as dataframe\n",
    "books = pd.read_pickle('../data/books.pkl')\n",
    "titles = pd.read_pickle('../data/titles91.pkl')"
   ]
  },
  {
   "cell_type": "code",
   "execution_count": 5,
   "metadata": {},
   "outputs": [
    {
     "data": {
      "text/html": [
       "<div>\n",
       "<style scoped>\n",
       "    .dataframe tbody tr th:only-of-type {\n",
       "        vertical-align: middle;\n",
       "    }\n",
       "\n",
       "    .dataframe tbody tr th {\n",
       "        vertical-align: top;\n",
       "    }\n",
       "\n",
       "    .dataframe thead th {\n",
       "        text-align: right;\n",
       "    }\n",
       "</style>\n",
       "<table border=\"1\" class=\"dataframe\">\n",
       "  <thead>\n",
       "    <tr style=\"text-align: right;\">\n",
       "      <th></th>\n",
       "      <th>0</th>\n",
       "    </tr>\n",
       "  </thead>\n",
       "  <tbody>\n",
       "    <tr>\n",
       "      <th>title</th>\n",
       "      <td>Beware Of Chicken</td>\n",
       "    </tr>\n",
       "    <tr>\n",
       "      <th>warning</th>\n",
       "      <td></td>\n",
       "    </tr>\n",
       "    <tr>\n",
       "      <th>summary</th>\n",
       "      <td>Jin Rou wanted to be a cultivator who defie...</td>\n",
       "    </tr>\n",
       "    <tr>\n",
       "      <th>ch1</th>\n",
       "      <td>Beware of Chicken In which a transmigrator ...</td>\n",
       "    </tr>\n",
       "    <tr>\n",
       "      <th>ch2</th>\n",
       "      <td>I jolted awake to Big D’s furious battle cr...</td>\n",
       "    </tr>\n",
       "    <tr>\n",
       "      <th>ch3</th>\n",
       "      <td>Bi De knew fury. One of the red ones had ve...</td>\n",
       "    </tr>\n",
       "    <tr>\n",
       "      <th>ch4</th>\n",
       "      <td>There were many ways Meiling expected her d...</td>\n",
       "    </tr>\n",
       "    <tr>\n",
       "      <th>ch5</th>\n",
       "      <td>Jin surely could have left first thing in t...</td>\n",
       "    </tr>\n",
       "  </tbody>\n",
       "</table>\n",
       "</div>"
      ],
      "text/plain": [
       "                                                         0\n",
       "title                                    Beware Of Chicken\n",
       "warning                                                   \n",
       "summary     Jin Rou wanted to be a cultivator who defie...\n",
       "ch1         Beware of Chicken In which a transmigrator ...\n",
       "ch2         I jolted awake to Big D’s furious battle cr...\n",
       "ch3         Bi De knew fury. One of the red ones had ve...\n",
       "ch4         There were many ways Meiling expected her d...\n",
       "ch5         Jin surely could have left first thing in t..."
      ]
     },
     "execution_count": 5,
     "metadata": {},
     "output_type": "execute_result"
    }
   ],
   "source": [
    "books.head(1).T"
   ]
  },
  {
   "cell_type": "code",
   "execution_count": 7,
   "metadata": {},
   "outputs": [
    {
     "data": {
      "text/html": [
       "<div>\n",
       "<style scoped>\n",
       "    .dataframe tbody tr th:only-of-type {\n",
       "        vertical-align: middle;\n",
       "    }\n",
       "\n",
       "    .dataframe tbody tr th {\n",
       "        vertical-align: top;\n",
       "    }\n",
       "\n",
       "    .dataframe thead th {\n",
       "        text-align: right;\n",
       "    }\n",
       "</style>\n",
       "<table border=\"1\" class=\"dataframe\">\n",
       "  <thead>\n",
       "    <tr style=\"text-align: right;\">\n",
       "      <th></th>\n",
       "      <th>title</th>\n",
       "      <th>tags</th>\n",
       "      <th>followers</th>\n",
       "      <th>rating</th>\n",
       "      <th>pages</th>\n",
       "      <th>views</th>\n",
       "      <th>chapters</th>\n",
       "      <th>date_last_updated</th>\n",
       "      <th>adventure</th>\n",
       "      <th>comedy</th>\n",
       "      <th>...</th>\n",
       "      <th>opera</th>\n",
       "      <th>technologically</th>\n",
       "      <th>first</th>\n",
       "      <th>contact</th>\n",
       "      <th>reader</th>\n",
       "      <th>interactive</th>\n",
       "      <th>short</th>\n",
       "      <th>story</th>\n",
       "      <th>hard</th>\n",
       "      <th>sports</th>\n",
       "    </tr>\n",
       "  </thead>\n",
       "  <tbody>\n",
       "    <tr>\n",
       "      <th>0</th>\n",
       "      <td>Beware Of Chicken</td>\n",
       "      <td>[adventure, comedy, fantasy, romance, male, ma...</td>\n",
       "      <td>13806</td>\n",
       "      <td>4.83</td>\n",
       "      <td>476</td>\n",
       "      <td>2623581</td>\n",
       "      <td>68</td>\n",
       "      <td>2021-03-29</td>\n",
       "      <td>1</td>\n",
       "      <td>1</td>\n",
       "      <td>...</td>\n",
       "      <td>0</td>\n",
       "      <td>0</td>\n",
       "      <td>0</td>\n",
       "      <td>0</td>\n",
       "      <td>0</td>\n",
       "      <td>0</td>\n",
       "      <td>0</td>\n",
       "      <td>0</td>\n",
       "      <td>0</td>\n",
       "      <td>0</td>\n",
       "    </tr>\n",
       "  </tbody>\n",
       "</table>\n",
       "<p>1 rows × 91 columns</p>\n",
       "</div>"
      ],
      "text/plain": [
       "               title                                               tags  \\\n",
       "0  Beware Of Chicken  [adventure, comedy, fantasy, romance, male, ma...   \n",
       "\n",
       "   followers  rating  pages    views  chapters date_last_updated  adventure  \\\n",
       "0      13806    4.83    476  2623581        68        2021-03-29          1   \n",
       "\n",
       "   comedy  ...  opera  technologically  first  contact  reader  interactive  \\\n",
       "0       1  ...      0                0      0        0       0            0   \n",
       "\n",
       "   short  story  hard  sports  \n",
       "0      0      0     0       0  \n",
       "\n",
       "[1 rows x 91 columns]"
      ]
     },
     "execution_count": 7,
     "metadata": {},
     "output_type": "execute_result"
    }
   ],
   "source": [
    "titles.head(1)"
   ]
  },
  {
   "cell_type": "code",
   "execution_count": 95,
   "metadata": {},
   "outputs": [
    {
     "data": {
      "text/plain": [
       "Index(['title', 'tags', 'followers', 'rating', 'pages', 'views', 'chapters',\n",
       "       'date_last_updated', 'adventure', 'comedy', 'fantasy', 'romance',\n",
       "       'male', 'martial', 'arts', 'portal', 'isekai', 'reincarnation',\n",
       "       'xianxia', 'mystery', 'sci-fi', 'anti-hero', 'genetically',\n",
       "       'engineered', 'loop', 'strong', 'super', 'heroes', 'time', 'travel',\n",
       "       'action', 'high', 'litrpg', 'mythos', 'progression', 'ruling', 'class',\n",
       "       'strategy', 'horror', 'female', 'magic', 'historical', 'urban',\n",
       "       'villainous', 'drama', 'multiple', 'characters', 'non-human',\n",
       "       'supernatural', 'gamelit', 'psychological', 'grimdark', 'cyberpunk',\n",
       "       'satire', 'virtual', 'reality', 'tragedy', 'attractive', 'mc', 'low',\n",
       "       'secret', 'identity', 'slice', 'life', 'war', 'military', 'wuxia',\n",
       "       'artificial', 'intelligence', 'dystopia', 'post', 'apocalyptic',\n",
       "       'dungeon', 'gender', 'bender', 'soft', 'school', 'harem',\n",
       "       'contemporary', 'steampunk', 'space', 'opera', 'technologically',\n",
       "       'first', 'contact', 'reader', 'interactive', 'short', 'story', 'hard',\n",
       "       'sports'],\n",
       "      dtype='object')"
      ]
     },
     "execution_count": 95,
     "metadata": {},
     "output_type": "execute_result"
    }
   ],
   "source": [
    "# Get columns for all data \n",
    "titles.columns"
   ]
  },
  {
   "cell_type": "code",
   "execution_count": 96,
   "metadata": {},
   "outputs": [
    {
     "data": {
      "text/plain": [
       "Index(['title', 'warning', 'summary', 'ch1', 'ch2', 'ch3', 'ch4', 'ch5'], dtype='object')"
      ]
     },
     "execution_count": 96,
     "metadata": {},
     "output_type": "execute_result"
    }
   ],
   "source": [
    "books.columns"
   ]
  },
  {
   "cell_type": "code",
   "execution_count": 97,
   "metadata": {},
   "outputs": [],
   "source": [
    "# Combine data set \n",
    "df = pd.merge(left = titles, right = books, left_on='title', right_on='title')"
   ]
  },
  {
   "cell_type": "code",
   "execution_count": 108,
   "metadata": {},
   "outputs": [
    {
     "data": {
      "text/plain": [
       "0       3 days 08:46:45.708038\n",
       "1       5 days 08:46:45.708038\n",
       "2       5 days 08:46:45.708038\n",
       "3       3 days 08:46:45.708038\n",
       "4       6 days 08:46:45.708038\n",
       "                 ...          \n",
       "2562    3 days 08:46:45.708038\n",
       "2563   31 days 08:46:45.708038\n",
       "2564   12 days 08:46:45.708038\n",
       "2565    3 days 08:46:45.708038\n",
       "2566    8 days 08:46:45.708038\n",
       "Name: date_last_updated, Length: 2567, dtype: timedelta64[ns]"
      ]
     },
     "execution_count": 108,
     "metadata": {},
     "output_type": "execute_result"
    }
   ],
   "source": [
    "# Create new columns called day last update \n",
    "pd.Timestamp.now() - df.date_last_updated"
   ]
  },
  {
   "cell_type": "code",
   "execution_count": 107,
   "metadata": {},
   "outputs": [
    {
     "data": {
      "text/plain": [
       "Timestamp('2021-04-01 08:46:30.024539')"
      ]
     },
     "execution_count": 107,
     "metadata": {},
     "output_type": "execute_result"
    }
   ],
   "source": [
    "pd.Timestamp.now()"
   ]
  },
  {
   "cell_type": "markdown",
   "metadata": {},
   "source": [
    "---\n",
    "---"
   ]
  },
  {
   "cell_type": "code",
   "execution_count": 83,
   "metadata": {},
   "outputs": [],
   "source": [
    "drop_from_X = ['rating', 'tags', 'title', 'date_last_updated'] #, 'followers', 'views']\n",
    "X = titles.drop(drop_from_X, axis = 1)\n",
    "y = titles['rating']\n",
    "\n",
    "# Build model only on title data frame \n",
    "X_train, X_test, y_train, y_test = train_test_split(X, y, test_size = 0.2, random_state = 0)"
   ]
  },
  {
   "cell_type": "code",
   "execution_count": 84,
   "metadata": {},
   "outputs": [
    {
     "data": {
      "text/html": [
       "<div>\n",
       "<style scoped>\n",
       "    .dataframe tbody tr th:only-of-type {\n",
       "        vertical-align: middle;\n",
       "    }\n",
       "\n",
       "    .dataframe tbody tr th {\n",
       "        vertical-align: top;\n",
       "    }\n",
       "\n",
       "    .dataframe thead th {\n",
       "        text-align: right;\n",
       "    }\n",
       "</style>\n",
       "<table border=\"1\" class=\"dataframe\">\n",
       "  <thead>\n",
       "    <tr style=\"text-align: right;\">\n",
       "      <th></th>\n",
       "      <th>followers</th>\n",
       "      <th>pages</th>\n",
       "      <th>views</th>\n",
       "      <th>chapters</th>\n",
       "      <th>adventure</th>\n",
       "      <th>comedy</th>\n",
       "      <th>fantasy</th>\n",
       "      <th>romance</th>\n",
       "      <th>male</th>\n",
       "      <th>martial</th>\n",
       "      <th>...</th>\n",
       "      <th>opera</th>\n",
       "      <th>technologically</th>\n",
       "      <th>first</th>\n",
       "      <th>contact</th>\n",
       "      <th>reader</th>\n",
       "      <th>interactive</th>\n",
       "      <th>short</th>\n",
       "      <th>story</th>\n",
       "      <th>hard</th>\n",
       "      <th>sports</th>\n",
       "    </tr>\n",
       "  </thead>\n",
       "  <tbody>\n",
       "    <tr>\n",
       "      <th>1533</th>\n",
       "      <td>3</td>\n",
       "      <td>7</td>\n",
       "      <td>749</td>\n",
       "      <td>24</td>\n",
       "      <td>0</td>\n",
       "      <td>0</td>\n",
       "      <td>1</td>\n",
       "      <td>0</td>\n",
       "      <td>0</td>\n",
       "      <td>0</td>\n",
       "      <td>...</td>\n",
       "      <td>0</td>\n",
       "      <td>0</td>\n",
       "      <td>0</td>\n",
       "      <td>0</td>\n",
       "      <td>0</td>\n",
       "      <td>0</td>\n",
       "      <td>1</td>\n",
       "      <td>1</td>\n",
       "      <td>0</td>\n",
       "      <td>0</td>\n",
       "    </tr>\n",
       "    <tr>\n",
       "      <th>2095</th>\n",
       "      <td>1</td>\n",
       "      <td>16</td>\n",
       "      <td>30</td>\n",
       "      <td>2</td>\n",
       "      <td>0</td>\n",
       "      <td>0</td>\n",
       "      <td>1</td>\n",
       "      <td>0</td>\n",
       "      <td>0</td>\n",
       "      <td>0</td>\n",
       "      <td>...</td>\n",
       "      <td>0</td>\n",
       "      <td>0</td>\n",
       "      <td>0</td>\n",
       "      <td>0</td>\n",
       "      <td>0</td>\n",
       "      <td>0</td>\n",
       "      <td>0</td>\n",
       "      <td>0</td>\n",
       "      <td>0</td>\n",
       "      <td>0</td>\n",
       "    </tr>\n",
       "    <tr>\n",
       "      <th>2309</th>\n",
       "      <td>0</td>\n",
       "      <td>9</td>\n",
       "      <td>49</td>\n",
       "      <td>1</td>\n",
       "      <td>1</td>\n",
       "      <td>0</td>\n",
       "      <td>0</td>\n",
       "      <td>1</td>\n",
       "      <td>1</td>\n",
       "      <td>0</td>\n",
       "      <td>...</td>\n",
       "      <td>1</td>\n",
       "      <td>0</td>\n",
       "      <td>0</td>\n",
       "      <td>0</td>\n",
       "      <td>0</td>\n",
       "      <td>0</td>\n",
       "      <td>0</td>\n",
       "      <td>0</td>\n",
       "      <td>0</td>\n",
       "      <td>0</td>\n",
       "    </tr>\n",
       "    <tr>\n",
       "      <th>125</th>\n",
       "      <td>514</td>\n",
       "      <td>1820</td>\n",
       "      <td>109074</td>\n",
       "      <td>39</td>\n",
       "      <td>0</td>\n",
       "      <td>0</td>\n",
       "      <td>0</td>\n",
       "      <td>0</td>\n",
       "      <td>0</td>\n",
       "      <td>0</td>\n",
       "      <td>...</td>\n",
       "      <td>0</td>\n",
       "      <td>0</td>\n",
       "      <td>0</td>\n",
       "      <td>0</td>\n",
       "      <td>0</td>\n",
       "      <td>0</td>\n",
       "      <td>0</td>\n",
       "      <td>0</td>\n",
       "      <td>0</td>\n",
       "      <td>0</td>\n",
       "    </tr>\n",
       "    <tr>\n",
       "      <th>1377</th>\n",
       "      <td>3</td>\n",
       "      <td>194</td>\n",
       "      <td>1670</td>\n",
       "      <td>21</td>\n",
       "      <td>0</td>\n",
       "      <td>1</td>\n",
       "      <td>1</td>\n",
       "      <td>0</td>\n",
       "      <td>1</td>\n",
       "      <td>0</td>\n",
       "      <td>...</td>\n",
       "      <td>0</td>\n",
       "      <td>0</td>\n",
       "      <td>0</td>\n",
       "      <td>0</td>\n",
       "      <td>0</td>\n",
       "      <td>0</td>\n",
       "      <td>0</td>\n",
       "      <td>0</td>\n",
       "      <td>0</td>\n",
       "      <td>0</td>\n",
       "    </tr>\n",
       "    <tr>\n",
       "      <th>...</th>\n",
       "      <td>...</td>\n",
       "      <td>...</td>\n",
       "      <td>...</td>\n",
       "      <td>...</td>\n",
       "      <td>...</td>\n",
       "      <td>...</td>\n",
       "      <td>...</td>\n",
       "      <td>...</td>\n",
       "      <td>...</td>\n",
       "      <td>...</td>\n",
       "      <td>...</td>\n",
       "      <td>...</td>\n",
       "      <td>...</td>\n",
       "      <td>...</td>\n",
       "      <td>...</td>\n",
       "      <td>...</td>\n",
       "      <td>...</td>\n",
       "      <td>...</td>\n",
       "      <td>...</td>\n",
       "      <td>...</td>\n",
       "      <td>...</td>\n",
       "    </tr>\n",
       "    <tr>\n",
       "      <th>1033</th>\n",
       "      <td>19</td>\n",
       "      <td>263</td>\n",
       "      <td>2204</td>\n",
       "      <td>21</td>\n",
       "      <td>1</td>\n",
       "      <td>0</td>\n",
       "      <td>1</td>\n",
       "      <td>0</td>\n",
       "      <td>0</td>\n",
       "      <td>0</td>\n",
       "      <td>...</td>\n",
       "      <td>0</td>\n",
       "      <td>0</td>\n",
       "      <td>0</td>\n",
       "      <td>0</td>\n",
       "      <td>0</td>\n",
       "      <td>0</td>\n",
       "      <td>0</td>\n",
       "      <td>0</td>\n",
       "      <td>0</td>\n",
       "      <td>0</td>\n",
       "    </tr>\n",
       "    <tr>\n",
       "      <th>1731</th>\n",
       "      <td>3</td>\n",
       "      <td>161</td>\n",
       "      <td>1109</td>\n",
       "      <td>25</td>\n",
       "      <td>1</td>\n",
       "      <td>0</td>\n",
       "      <td>1</td>\n",
       "      <td>0</td>\n",
       "      <td>0</td>\n",
       "      <td>0</td>\n",
       "      <td>...</td>\n",
       "      <td>0</td>\n",
       "      <td>0</td>\n",
       "      <td>0</td>\n",
       "      <td>0</td>\n",
       "      <td>0</td>\n",
       "      <td>0</td>\n",
       "      <td>0</td>\n",
       "      <td>0</td>\n",
       "      <td>0</td>\n",
       "      <td>0</td>\n",
       "    </tr>\n",
       "    <tr>\n",
       "      <th>763</th>\n",
       "      <td>41</td>\n",
       "      <td>137</td>\n",
       "      <td>8367</td>\n",
       "      <td>36</td>\n",
       "      <td>1</td>\n",
       "      <td>0</td>\n",
       "      <td>1</td>\n",
       "      <td>0</td>\n",
       "      <td>1</td>\n",
       "      <td>0</td>\n",
       "      <td>...</td>\n",
       "      <td>0</td>\n",
       "      <td>0</td>\n",
       "      <td>0</td>\n",
       "      <td>0</td>\n",
       "      <td>0</td>\n",
       "      <td>0</td>\n",
       "      <td>0</td>\n",
       "      <td>0</td>\n",
       "      <td>0</td>\n",
       "      <td>0</td>\n",
       "    </tr>\n",
       "    <tr>\n",
       "      <th>835</th>\n",
       "      <td>75</td>\n",
       "      <td>1163</td>\n",
       "      <td>35864</td>\n",
       "      <td>149</td>\n",
       "      <td>1</td>\n",
       "      <td>0</td>\n",
       "      <td>1</td>\n",
       "      <td>0</td>\n",
       "      <td>1</td>\n",
       "      <td>0</td>\n",
       "      <td>...</td>\n",
       "      <td>0</td>\n",
       "      <td>0</td>\n",
       "      <td>0</td>\n",
       "      <td>0</td>\n",
       "      <td>0</td>\n",
       "      <td>0</td>\n",
       "      <td>0</td>\n",
       "      <td>0</td>\n",
       "      <td>0</td>\n",
       "      <td>0</td>\n",
       "    </tr>\n",
       "    <tr>\n",
       "      <th>1653</th>\n",
       "      <td>5</td>\n",
       "      <td>115</td>\n",
       "      <td>1206</td>\n",
       "      <td>23</td>\n",
       "      <td>1</td>\n",
       "      <td>0</td>\n",
       "      <td>1</td>\n",
       "      <td>0</td>\n",
       "      <td>1</td>\n",
       "      <td>0</td>\n",
       "      <td>...</td>\n",
       "      <td>0</td>\n",
       "      <td>0</td>\n",
       "      <td>0</td>\n",
       "      <td>0</td>\n",
       "      <td>0</td>\n",
       "      <td>0</td>\n",
       "      <td>0</td>\n",
       "      <td>0</td>\n",
       "      <td>0</td>\n",
       "      <td>0</td>\n",
       "    </tr>\n",
       "  </tbody>\n",
       "</table>\n",
       "<p>2079 rows × 87 columns</p>\n",
       "</div>"
      ],
      "text/plain": [
       "      followers  pages   views  chapters  adventure  comedy  fantasy  romance  \\\n",
       "1533          3      7     749        24          0       0        1        0   \n",
       "2095          1     16      30         2          0       0        1        0   \n",
       "2309          0      9      49         1          1       0        0        1   \n",
       "125         514   1820  109074        39          0       0        0        0   \n",
       "1377          3    194    1670        21          0       1        1        0   \n",
       "...         ...    ...     ...       ...        ...     ...      ...      ...   \n",
       "1033         19    263    2204        21          1       0        1        0   \n",
       "1731          3    161    1109        25          1       0        1        0   \n",
       "763          41    137    8367        36          1       0        1        0   \n",
       "835          75   1163   35864       149          1       0        1        0   \n",
       "1653          5    115    1206        23          1       0        1        0   \n",
       "\n",
       "      male  martial  ...  opera  technologically  first  contact  reader  \\\n",
       "1533     0        0  ...      0                0      0        0       0   \n",
       "2095     0        0  ...      0                0      0        0       0   \n",
       "2309     1        0  ...      1                0      0        0       0   \n",
       "125      0        0  ...      0                0      0        0       0   \n",
       "1377     1        0  ...      0                0      0        0       0   \n",
       "...    ...      ...  ...    ...              ...    ...      ...     ...   \n",
       "1033     0        0  ...      0                0      0        0       0   \n",
       "1731     0        0  ...      0                0      0        0       0   \n",
       "763      1        0  ...      0                0      0        0       0   \n",
       "835      1        0  ...      0                0      0        0       0   \n",
       "1653     1        0  ...      0                0      0        0       0   \n",
       "\n",
       "      interactive  short  story  hard  sports  \n",
       "1533            0      1      1     0       0  \n",
       "2095            0      0      0     0       0  \n",
       "2309            0      0      0     0       0  \n",
       "125             0      0      0     0       0  \n",
       "1377            0      0      0     0       0  \n",
       "...           ...    ...    ...   ...     ...  \n",
       "1033            0      0      0     0       0  \n",
       "1731            0      0      0     0       0  \n",
       "763             0      0      0     0       0  \n",
       "835             0      0      0     0       0  \n",
       "1653            0      0      0     0       0  \n",
       "\n",
       "[2079 rows x 87 columns]"
      ]
     },
     "execution_count": 84,
     "metadata": {},
     "output_type": "execute_result"
    }
   ],
   "source": [
    "X_train"
   ]
  },
  {
   "cell_type": "code",
   "execution_count": 85,
   "metadata": {},
   "outputs": [],
   "source": [
    "# Make a model and predict \n",
    "model_rfrtitle = RandomForestRegressor()\n",
    "model_rfrtitle.fit(X_train, y_train)\n",
    "pred = model_rfrtitle.predict(X_test)"
   ]
  },
  {
   "cell_type": "code",
   "execution_count": 86,
   "metadata": {},
   "outputs": [
    {
     "data": {
      "text/plain": [
       "0.4544537654503933"
      ]
     },
     "execution_count": 86,
     "metadata": {},
     "output_type": "execute_result"
    }
   ],
   "source": [
    "r2_score(y_test, pred) "
   ]
  },
  {
   "cell_type": "code",
   "execution_count": 75,
   "metadata": {},
   "outputs": [
    {
     "data": {
      "image/png": "[encoded data removed]",
      "text/plain": [
       "<Figure size 1080x576 with 1 Axes>"
      ]
     },
     "metadata": {},
     "output_type": "display_data"
    }
   ],
   "source": [
    "# Plot the feature importance\n",
    "feat_scores = pd.DataFrame({'Fraction of Samples Affected' : model_rfrtitle.feature_importances_},\n",
    "                           index=X_train.columns)\n",
    "feat_scores = feat_scores.sort_values(by='Fraction of Samples Affected', ascending = False)[0:10]\n",
    "feat_scores.plot(kind='barh', figsize=(15,8));"
   ]
  },
  {
   "cell_type": "code",
   "execution_count": 74,
   "metadata": {},
   "outputs": [],
   "source": [
    "names = X_train.columns\n",
    " \n",
    "rfcv = RandomForestRegressor()\n",
    "scores = defaultdict(list)\n",
    " \n",
    "# crossvalidate the scores on a number of \n",
    "# different random splits of the data\n",
    "splitter = ShuffleSplit(100, test_size=.3)\n",
    "\n",
    "for train_idx, test_idx in splitter.split(X_train, y_train):\n",
    "    X_traincv, X_testcv = X_train.values[train_idx], X_train.values[test_idx]\n",
    "    y_traincv, y_testcv = y_train.values[train_idx], y_train.values[test_idx]\n",
    "    rfcv.fit(X_traincv, y_traincv)\n",
    "    \n",
    "    acc = r2_score(y_testcv, rfcv.predict(X_testcv))\n",
    "    for i in range(X.shape[1]):\n",
    "        X_t = X_testcv.copy()\n",
    "        np.random.shuffle(X_t[:, i])\n",
    "        shuff_acc = r2_score(y_testcv, rfcv.predict(X_t))\n",
    "        scores[names[i]].append((acc-shuff_acc)/acc)\n",
    "\n",
    "score_series = pd.DataFrame(scores).mean()\n",
    "scores = pd.DataFrame({'Mean Decrease Accuracy' : score_series})"
   ]
  },
  {
   "cell_type": "code",
   "execution_count": 92,
   "metadata": {},
   "outputs": [
    {
     "data": {
      "text/plain": [
       "<AxesSubplot:>"
      ]
     },
     "execution_count": 92,
     "metadata": {},
     "output_type": "execute_result"
    },
    {
     "data": {
      "image/png": "[encoded data removed]",
      "text/plain": [
       "<Figure size 432x288 with 1 Axes>"
      ]
     },
     "metadata": {},
     "output_type": "display_data"
    }
   ],
   "source": [
    "scores.sort_values(by='Mean Decrease Accuracy', ascending = False)[0:10].plot(kind='barh', figsize=(6,4))"
   ]
  },
  {
   "cell_type": "code",
   "execution_count": 94,
   "metadata": {},
   "outputs": [
    {
     "data": {
      "image/png": "[encoded data removed]",
      "text/plain": [
       "<Figure size 432x288 with 1 Axes>"
      ]
     },
     "metadata": {},
     "output_type": "display_data"
    }
   ],
   "source": [
    "# Plot the feature importance\n",
    "feat_scores = pd.DataFrame({'Fraction of Samples Affected' : rfcv.feature_importances_},\n",
    "                           index=X_train.columns)\n",
    "feat_scores = feat_scores.sort_values(by='Fraction of Samples Affected', ascending = False)[0:10]\n",
    "feat_scores.plot(kind='barh', figsize=(6, 4));"
   ]
  },
  {
   "cell_type": "code",
   "execution_count": 36,
   "metadata": {},
   "outputs": [
    {
     "data": {
      "text/plain": [
       "array([0.1604825 , 0.29313497, 0.01414813, 0.00867586, 0.00919709,\n",
       "       0.01280636, 0.01573495, 0.00399258, 0.003983  , 0.00525353,\n",
       "       0.00575431, 0.01039919, 0.00398862, 0.00961471, 0.01153965,\n",
       "       0.01400571, 0.00277835, 0.00274432, 0.00122978, 0.01188633,\n",
       "       0.00281612, 0.00262984, 0.00245794, 0.0021222 , 0.01358447,\n",
       "       0.01287403, 0.0153726 , 0.00682887, 0.01120827, 0.00474215,\n",
       "       0.00444353, 0.00727947, 0.00588413, 0.01404833, 0.01456152,\n",
       "       0.00557426, 0.00909675, 0.00544579, 0.00901737, 0.00762323,\n",
       "       0.00719728, 0.01147907, 0.0120918 , 0.0121632 , 0.00897296,\n",
       "       0.01056679, 0.00122368, 0.00437868, 0.00237381, 0.00265311,\n",
       "       0.01369207, 0.00272259, 0.00264872, 0.00900041, 0.00500686,\n",
       "       0.00573251, 0.00661582, 0.00914182, 0.00630896, 0.0048202 ,\n",
       "       0.00363217, 0.0020605 , 0.00184897, 0.01021204, 0.00434614,\n",
       "       0.00384248, 0.00683649, 0.00163887, 0.00228424, 0.00709737,\n",
       "       0.0069274 , 0.00720372, 0.00809833, 0.0021805 , 0.00238344,\n",
       "       0.00193806, 0.00234703, 0.00293527, 0.00340694, 0.00302147,\n",
       "       0.00271692, 0.00435631, 0.0037171 , 0.00357536, 0.00364167])"
      ]
     },
     "execution_count": 36,
     "metadata": {},
     "output_type": "execute_result"
    }
   ],
   "source": [
    "rf.feature_importances_"
   ]
  },
  {
   "cell_type": "code",
   "execution_count": 87,
   "metadata": {},
   "outputs": [
    {
     "data": {
      "text/plain": [
       "0.4544537654503933"
      ]
     },
     "execution_count": 87,
     "metadata": {},
     "output_type": "execute_result"
    }
   ],
   "source": [
    "r2_score(y_test, pred)"
   ]
  },
  {
   "cell_type": "code",
   "execution_count": 44,
   "metadata": {},
   "outputs": [
    {
     "data": {
      "text/plain": [
       "924     5.00\n",
       "2198    0.00\n",
       "2496    3.97\n",
       "156     4.49\n",
       "1116    4.67\n",
       "        ... \n",
       "477     4.61\n",
       "2439    4.69\n",
       "2181    0.00\n",
       "536     4.83\n",
       "1959    0.00\n",
       "Name: rating, Length: 520, dtype: float64"
      ]
     },
     "execution_count": 44,
     "metadata": {},
     "output_type": "execute_result"
    }
   ],
   "source": [
    "y_test"
   ]
  },
  {
   "cell_type": "code",
   "execution_count": null,
   "metadata": {},
   "outputs": [],
   "source": []
  }
 ],
 "metadata": {
  "kernelspec": {
   "display_name": "Python 3",
   "language": "python",
   "name": "python3"
  },
  "language_info": {
   "codemirror_mode": {
    "name": "ipython",
    "version": 3
   },
   "file_extension": ".py",
   "mimetype": "text/x-python",
   "name": "python",
   "nbconvert_exporter": "python",
   "pygments_lexer": "ipython3",
   "version": "3.8.5"
  }
 },
 "nbformat": 4,
 "nbformat_minor": 4
}
