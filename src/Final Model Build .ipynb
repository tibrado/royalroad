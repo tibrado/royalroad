{
 "cells": [
  {
   "cell_type": "code",
   "execution_count": 112,
   "metadata": {},
   "outputs": [],
   "source": [
    "# Imports\n",
    "import pandas as pd\n",
    "import numpy as np \n",
    "import matplotlib.pyplot as plt\n",
    "from sklearn.model_selection import cross_val_score, train_test_split, RandomizedSearchCV, ShuffleSplit\n",
    "from sklearn.ensemble import RandomForestRegressor, RandomForestClassifier\n",
    "from sklearn.feature_extraction.text import TfidfVectorizer\n",
    "from sklearn.decomposition import NMF\n",
    "from sklearn.metrics import r2_score, f1_score, precision_score, recall_score, roc_auc_score\n",
    "from collections import defaultdict\n",
    "\n",
    "# My scripts \n",
    "import nltk_helper as nh\n",
    "\n",
    "%matplotlib inline\n",
    "\n",
    "plt.style.use('seaborn')"
   ]
  },
  {
   "cell_type": "code",
   "execution_count": 141,
   "metadata": {},
   "outputs": [],
   "source": [
    "# get data \n",
    "df = pd.read_pickle('../data/data.pkl')"
   ]
  },
  {
   "cell_type": "code",
   "execution_count": 142,
   "metadata": {},
   "outputs": [],
   "source": [
    "drop_col = ['tags', 'date_last_updated','rating', 'rating_gte_4', 'warning']\n",
    "text_col = ['summary', 'ch1', 'ch2', 'ch3', 'ch4', 'ch5']"
   ]
  },
  {
   "cell_type": "code",
   "execution_count": 143,
   "metadata": {},
   "outputs": [],
   "source": [
    "# Get columns \n",
    "X = df.drop(drop_col, axis = 1)\n",
    "y = df[['rating_gte_4', 'rating']]"
   ]
  },
  {
   "cell_type": "code",
   "execution_count": 144,
   "metadata": {},
   "outputs": [],
   "source": [
    "# Do train test split \n",
    "X_train, X_test, y_train, y_test = train_test_split(X, y, test_size = 0.2, random_state = 0)  "
   ]
  },
  {
   "cell_type": "code",
   "execution_count": 145,
   "metadata": {},
   "outputs": [
    {
     "data": {
      "text/plain": [
       "\"\\nX_train.drop('title', axis=1, inplace=True)\\nX_test.drop('title', axis=1, inplace=True)\\n\""
      ]
     },
     "execution_count": 145,
     "metadata": {},
     "output_type": "execute_result"
    }
   ],
   "source": [
    "# Get titles \n",
    "X_train_titles = X_train.title\n",
    "X_test_titles = X_test.title\n",
    "\n",
    "'''\n",
    "X_train.drop('title', axis=1, inplace=True)\n",
    "X_test.drop('title', axis=1, inplace=True)\n",
    "'''"
   ]
  },
  {
   "cell_type": "code",
   "execution_count": 146,
   "metadata": {},
   "outputs": [
    {
     "name": "stdout",
     "output_type": "stream",
     "text": [
      "Train Shape: (2053, 95)   Test Shape: (514, 95)\n"
     ]
    }
   ],
   "source": [
    "print(f'Train Shape: {X_train.shape}   Test Shape: {X_test.shape}')"
   ]
  },
  {
   "cell_type": "markdown",
   "metadata": {},
   "source": [
    "---\n",
    "---\n",
    "**Make text columns into NMFs**"
   ]
  },
  {
   "cell_type": "code",
   "execution_count": 10,
   "metadata": {},
   "outputs": [
    {
     "name": "stderr",
     "output_type": "stream",
     "text": [
      "/home/noel/anaconda3/lib/python3.8/site-packages/sklearn/feature_extraction/text.py:484: UserWarning: The parameter 'token_pattern' will not be used since 'tokenizer' is not None'\n",
      "  warnings.warn(\"The parameter 'token_pattern' will not be used\"\n"
     ]
    }
   ],
   "source": [
    "# Make text vectors\n",
    "tfid = dict()\n",
    "for col in text_col:\n",
    "    tfid[col] = TfidfVectorizer(tokenizer = nh.prep_text)\n",
    "    \n",
    "    # Fit tfid\n",
    "    tfid[col].fit(X_train[col])"
   ]
  },
  {
   "cell_type": "code",
   "execution_count": 35,
   "metadata": {},
   "outputs": [],
   "source": [
    "# Fit NMF \n",
    "def fit_nmf(data, tfid, n = 10, max_i = 500):\n",
    "    # Transform data \n",
    "    X = tfid.transform(data)\n",
    "    \n",
    "    nmf = NMF(n_components = n, max_iter = max_i)\n",
    "    nmf.fit(X)\n",
    "    \n",
    "    W = nmf.transform(X)\n",
    "    H = nmf.components_\n",
    "    \n",
    "    df_H = pd.DataFrame(H, columns = tfid.get_feature_names())\n",
    "    \n",
    "    # Get Topic name \n",
    "    column_names = [f'{data.name}_topic_{i}' for i in range(n)]\n",
    "\n",
    "    df_W = pd.DataFrame(W, index = data.index, columns = column_names)\n",
    "    \n",
    "    # Reset index \n",
    "    df_W\n",
    "    df_H\n",
    "    \n",
    "    return nmf, df_W, df_H"
   ]
  },
  {
   "cell_type": "code",
   "execution_count": 147,
   "metadata": {},
   "outputs": [
    {
     "name": "stderr",
     "output_type": "stream",
     "text": [
      "/home/noel/anaconda3/lib/python3.8/site-packages/sklearn/decomposition/_nmf.py:1076: ConvergenceWarning: Maximum number of iterations 500 reached. Increase it to improve convergence.\n",
      "  warnings.warn(\"Maximum number of iterations %d reached. Increase it to\"\n",
      "/home/noel/anaconda3/lib/python3.8/site-packages/sklearn/decomposition/_nmf.py:1076: ConvergenceWarning: Maximum number of iterations 500 reached. Increase it to improve convergence.\n",
      "  warnings.warn(\"Maximum number of iterations %d reached. Increase it to\"\n"
     ]
    }
   ],
   "source": [
    "# Get H and W's\n",
    "Hs = []\n",
    "Ws = []\n",
    "\n",
    "## Set up text to nmf\n",
    "for col in text_col:\n",
    "    # NMF or train data \n",
    "    _, W, H = fit_nmf(X_train[col], tfid[col])\n",
    "    X_train = X_train.merge(W, left_index=True, right_index=True )\n",
    "    \n",
    "    Hs.append(H)\n",
    "    Ws.append(W)\n",
    "    \n",
    "    # NMF or test data \n",
    "    _, W, H = fit_nmf(X_test[col], tfid[col])\n",
    "    X_test = X_test.merge(W, left_index=True, right_index=True)"
   ]
  },
  {
   "cell_type": "code",
   "execution_count": 155,
   "metadata": {},
   "outputs": [],
   "source": [
    "# Save csv files \n",
    "for i in range(len(text_col)):\n",
    "    Hs[i].T.to_csv(f'../data/{text_col[i]}.csv')"
   ]
  },
  {
   "cell_type": "markdown",
   "metadata": {},
   "source": [
    "---\n",
    "---\n",
    "**Make Training and Test Dataset**"
   ]
  },
  {
   "cell_type": "code",
   "execution_count": 42,
   "metadata": {},
   "outputs": [],
   "source": [
    "drop_txt = ['summary', 'ch1', 'ch2', 'ch3', 'ch4', 'ch5', 'title']"
   ]
  },
  {
   "cell_type": "code",
   "execution_count": 43,
   "metadata": {},
   "outputs": [],
   "source": [
    "X_train.drop(drop_txt, axis = 1, inplace=True)\n",
    "X_test.drop(drop_txt, axis = 1, inplace=True)"
   ]
  },
  {
   "cell_type": "markdown",
   "metadata": {},
   "source": [
    "---\n",
    "---\n",
    "**Make Random Forest Model**"
   ]
  },
  {
   "cell_type": "code",
   "execution_count": 48,
   "metadata": {},
   "outputs": [
    {
     "name": "stdout",
     "output_type": "stream",
     "text": [
      "{'n_estimators': [200, 288, 377, 466, 555, 644, 733, 822, 911, 1000], 'max_features': ['auto', 'sqrt'], 'max_depth': [10, 17, 24, 31, 38, 45, 52, 59, 66, 73, 80, None], 'min_samples_split': [2, 5, 10], 'min_samples_leaf': [1, 2, 4], 'bootstrap': [True, False]}\n"
     ]
    }
   ],
   "source": [
    "# Number of trees in random forest\n",
    "n_estimators = [int(x) for x in np.linspace(start = 200, stop = 1000, num = 10)]\n",
    "\n",
    "# Number of features to consider at every split\n",
    "max_features = ['auto', 'sqrt']\n",
    "\n",
    "# Maximum number of levels in tree\n",
    "max_depth = [int(x) for x in np.linspace(10, 80, num = 11)]\n",
    "max_depth.append(None)\n",
    "\n",
    "# Minimum number of samples required to split a node\n",
    "min_samples_split = [2, 5, 10]\n",
    "\n",
    "# Minimum number of samples required at each leaf node\n",
    "min_samples_leaf = [1, 2, 4]\n",
    "\n",
    "# Method of selecting samples for training each tree\n",
    "bootstrap = [True, False]\n",
    "\n",
    "# Create the random grid\n",
    "random_grid = {'n_estimators': n_estimators,\n",
    "               'max_features': max_features,\n",
    "               'max_depth': max_depth,\n",
    "               'min_samples_split': min_samples_split,\n",
    "               'min_samples_leaf': min_samples_leaf,\n",
    "               'bootstrap': bootstrap}\n",
    "print(random_grid)"
   ]
  },
  {
   "cell_type": "code",
   "execution_count": 49,
   "metadata": {},
   "outputs": [
    {
     "name": "stdout",
     "output_type": "stream",
     "text": [
      "Fitting 3 folds for each of 100 candidates, totalling 300 fits\n"
     ]
    },
    {
     "name": "stderr",
     "output_type": "stream",
     "text": [
      "[Parallel(n_jobs=-1)]: Using backend LokyBackend with 12 concurrent workers.\n",
      "[Parallel(n_jobs=-1)]: Done  17 tasks      | elapsed:   11.3s\n",
      "[Parallel(n_jobs=-1)]: Done 138 tasks      | elapsed:  3.7min\n",
      "[Parallel(n_jobs=-1)]: Done 300 out of 300 | elapsed:  9.7min finished\n"
     ]
    },
    {
     "data": {
      "text/plain": [
       "{'n_estimators': 911,\n",
       " 'min_samples_split': 2,\n",
       " 'min_samples_leaf': 2,\n",
       " 'max_features': 'auto',\n",
       " 'max_depth': None,\n",
       " 'bootstrap': True}"
      ]
     },
     "execution_count": 49,
     "metadata": {},
     "output_type": "execute_result"
    }
   ],
   "source": [
    "# Use the random grid to search for best hyperparameters\n",
    "# First create the base model to tune\n",
    "rfr = RandomForestRegressor()\n",
    "\n",
    "# Random search of parameters, using 3 fold cross validation, \n",
    "# search across 100 different combinations, and use all available cores\n",
    "rfr_random = RandomizedSearchCV(estimator = rfr, param_distributions = random_grid, \n",
    "                                n_iter = 100, cv = 3, verbose=2, random_state=42, n_jobs = -1)\n",
    "\n",
    "# Fit the random search model\n",
    "rfr_random.fit(X_train, y_train['rating'])\n",
    "\n",
    "# Return best param\n",
    "best_params = rfr_random.best_params_\n",
    "best_params"
   ]
  },
  {
   "cell_type": "code",
   "execution_count": 54,
   "metadata": {},
   "outputs": [],
   "source": [
    "# CV \n",
    "rfr = RandomForestRegressor(random_state=0, **best_params)\n",
    "scores = defaultdict(list)\n",
    "\n",
    "# CV with shuffle splits \n",
    "splitter = ShuffleSplit(5, test_size  = 0.2)\n",
    "names = X_train.columns\n",
    "\n",
    "# Do some CV \n",
    "for train_index, test_index in splitter.split(X_train, y_train['rating']):\n",
    "    X_traincv, X_testcv = X_train.values[train_index], X_train.values[test_index]\n",
    "    y_traincv, y_testcv = y_train['rating'].values[train_index], y_train['rating'].values[test_index]\n",
    "    \n",
    "    # Fit model \n",
    "    rfr.fit(X_traincv, y_traincv)\n",
    "    \n",
    "    # Make get accuracy \n",
    "    acc = r2_score(y_testcv, rfr.predict(X_testcv))\n",
    "    \n",
    "    # Make some prediction \n",
    "    for i in range(X_train.shape[1]):\n",
    "        X_t = X_testcv.copy()\n",
    "        np.random.shuffle(X_t[:, i])\n",
    "        shuff_acc = r2_score(y_testcv, rfr.predict(X_t))\n",
    "        scores[names[i]].append((acc-shuff_acc)/acc)\n",
    "\n",
    "score_series = pd.DataFrame(scores).mean()\n",
    "scores = pd.DataFrame({'Mean Decrease Accuracy' : score_series})"
   ]
  },
  {
   "cell_type": "code",
   "execution_count": 58,
   "metadata": {},
   "outputs": [
    {
     "data": {
      "text/plain": [
       "<AxesSubplot:>"
      ]
     },
     "execution_count": 58,
     "metadata": {},
     "output_type": "execute_result"
    },
    {
     "data": {
      "image/png": "[encoded data removed]",
      "text/plain": [
       "<Figure size 432x288 with 1 Axes>"
      ]
     },
     "metadata": {},
     "output_type": "display_data"
    }
   ],
   "source": [
    "scores.sort_values(by='Mean Decreas# CV \n",
    "rfr = RandomForestRegressor(random_state=0, **best_params)\n",
    "scores = defaultdict(list)\n",
    "\n",
    "# CV with shuffle splits \n",
    "splitter = ShuffleSplit(5, test_size  = 0.2)\n",
    "names = X_train.columns\n",
    "\n",
    "# Do some CV \n",
    "for train_index, test_index in splitter.split(X_train, y_train['rating']):\n",
    "    X_traincv, X_testcv = X_train.values[train_index], X_train.values[test_index]\n",
    "    y_traincv, y_testcv = y_train['rating'].values[train_index], y_train['rating'].values[test_index]\n",
    "    \n",
    "    # Fit model \n",
    "    rfr.fit(X_traincv, y_traincv)\n",
    "    \n",
    "    # Make get accuracy \n",
    "    acc = r2_score(y_testcv, rfr.predict(X_testcv))\n",
    "    \n",
    "    # Make some prediction \n",
    "    for i in range(X_train.shape[1]):\n",
    "        X_t = X_testcv.copy()\n",
    "        np.random.shuffle(X_t[:, i])\n",
    "        shuff_acc = r2_score(y_testcv, rfr.predict(X_t))\n",
    "        scores[names[i]].append((acc-shuff_acc)/acc)\n",
    "\n",
    "score_series = pd.DataFrame(scores).mean()\n",
    "scores = pd.DataFrame({'Mean Decrease Accuracy' : score_series})e Accuracy', ascending = False)[0:10].plot(kind='barh', figsize=(6,4))"
   ]
  },
  {
   "cell_type": "code",
   "execution_count": 56,
   "metadata": {},
   "outputs": [
    {
     "data": {
      "text/plain": [
       "0.5138046827566733"
      ]
     },
     "execution_count": 56,
     "metadata": {},
     "output_type": "execute_result"
    }
   ],
   "source": [
    "r2_score(y_test['rating'], rfr.predict(X_test))"
   ]
  },
  {
   "cell_type": "code",
   "execution_count": 59,
   "metadata": {},
   "outputs": [
    {
     "data": {
      "text/plain": [
       "Index(['followers', 'views', 'summary_topic_2', 'pages', 'chapters',\n",
       "       'ch4_topic_0', 'harem', 'ch3_topic_2', 'summary_topic_7',\n",
       "       'summary_topic_5'],\n",
       "      dtype='object')"
      ]
     },
     "execution_count": 59,
     "metadata": {},
     "output_type": "execute_result"
    }
   ],
   "source": [
    "scores.sort_values(by='Mean Decrease Accuracy', ascending = False)[0:10].index"
   ]
  },
  {
   "cell_type": "markdown",
   "metadata": {},
   "source": [
    "---\n",
    "---\n",
    "**Random Forest Classifier**"
   ]
  },
  {
   "cell_type": "code",
   "execution_count": 61,
   "metadata": {},
   "outputs": [
    {
     "name": "stdout",
     "output_type": "stream",
     "text": [
      "Fitting 3 folds for each of 100 candidates, totalling 300 fits\n"
     ]
    },
    {
     "name": "stderr",
     "output_type": "stream",
     "text": [
      "[Parallel(n_jobs=-1)]: Using backend LokyBackend with 12 concurrent workers.\n",
      "[Parallel(n_jobs=-1)]: Done  17 tasks      | elapsed:   10.0s\n",
      "[Parallel(n_jobs=-1)]: Done 138 tasks      | elapsed:   56.9s\n",
      "[Parallel(n_jobs=-1)]: Done 300 out of 300 | elapsed:  2.1min finished\n"
     ]
    },
    {
     "data": {
      "text/plain": [
       "{'n_estimators': 377,\n",
       " 'min_samples_split': 2,\n",
       " 'min_samples_leaf': 2,\n",
       " 'max_features': 'sqrt',\n",
       " 'max_depth': 80,\n",
       " 'bootstrap': False}"
      ]
     },
     "execution_count": 61,
     "metadata": {},
     "output_type": "execute_result"
    }
   ],
   "source": [
    "# Use the random grid to search for best hyperparameters\n",
    "# First create the base model to tune\n",
    "rfc = RandomForestClassifier()\n",
    "\n",
    "# Random search of parameters, using 3 fold cross validation, \n",
    "# search across 100 different combinations, and use all available cores\n",
    "rfc_random = RandomizedSearchCV(estimator = rfc, param_distributions = random_grid, \n",
    "                                n_iter = 100, cv = 3, verbose=2, random_state=42, n_jobs = -1)\n",
    "\n",
    "# Fit the random search model\n",
    "rfc_random.fit(X_train, y_train['rating_gte_4'])\n",
    "\n",
    "# Return best param\n",
    "best_params = rfc_random.best_params_\n",
    "best_params"
   ]
  },
  {
   "cell_type": "code",
   "execution_count": 128,
   "metadata": {},
   "outputs": [
    {
     "data": {
      "text/plain": [
       "Index(['pages', 'chapters', 'adventure', 'comedy', 'fantasy', 'romance',\n",
       "       'male', 'martial', 'arts', 'portal',\n",
       "       ...\n",
       "       'ch5_topic_0', 'ch5_topic_1', 'ch5_topic_2', 'ch5_topic_3',\n",
       "       'ch5_topic_4', 'ch5_topic_5', 'ch5_topic_6', 'ch5_topic_7',\n",
       "       'ch5_topic_8', 'ch5_topic_9'],\n",
       "      dtype='object', length=146)"
      ]
     },
     "execution_count": 128,
     "metadata": {},
     "output_type": "execute_result"
    }
   ],
   "source": [
    "X_train.columns"
   ]
  },
  {
   "cell_type": "code",
   "execution_count": 129,
   "metadata": {},
   "outputs": [],
   "source": [
    "# Remove some variables from the data \n",
    "X_train.drop(['chapters', 'pages', 'followers', 'views'], axis = 1, inplace = True)"
   ]
  },
  {
   "cell_type": "code",
   "execution_count": 130,
   "metadata": {},
   "outputs": [],
   "source": [
    "# CV \n",
    "rfc = RandomForestClassifier(random_state=0, **best_params)\n",
    "scores = defaultdict(list)\n",
    "f1 = dict()\n",
    "threshold = [0.3, 0.4, 0.43,  0.44, 0.45, 0.47, 0.5, 0.6, 0.7]\n",
    "\n",
    "# CV with shuffle splits \n",
    "splitter = ShuffleSplit(5, test_size  = 0.2)\n",
    "names = X_train.columns\n",
    "\n",
    "\n",
    "# Do some CV \n",
    "for train_index, test_index in splitter.split(X_train, y_train['rating_gte_4']):\n",
    "    X_traincv, X_testcv = X_train.values[train_index], X_train.values[test_index]\n",
    "    y_traincv, y_testcv = y_train['rating_gte_4'].values[train_index], y_train['rating_gte_4'].values[test_index]\n",
    "    \n",
    "    # Fit model \n",
    "    rfc.fit(X_traincv, y_traincv)\n",
    "    \n",
    "    # Make some prediction \n",
    "    pred = rfc.predict(X_testcv)\n",
    "    \n",
    "    scores['F1'].append(f1_score(y_testcv, pred))\n",
    "    scores['Precision'].append(precision_score(y_testcv, pred))\n",
    "    scores['Recall'].append(recall_score(y_testcv, pred))\n",
    "    scores['ROC AUC'].append(roc_auc_score(y_testcv, pred))\n",
    "\n",
    "score_series = pd.DataFrame(scores).mean()\n",
    "all_scores = pd.DataFrame(scores)\n",
    "scores = pd.DataFrame({'Scores Mean' : score_series})"
   ]
  },
  {
   "cell_type": "code",
   "execution_count": 131,
   "metadata": {},
   "outputs": [
    {
     "data": {
      "text/html": [
       "<div>\n",
       "<style scoped>\n",
       "    .dataframe tbody tr th:only-of-type {\n",
       "        vertical-align: middle;\n",
       "    }\n",
       "\n",
       "    .dataframe tbody tr th {\n",
       "        vertical-align: top;\n",
       "    }\n",
       "\n",
       "    .dataframe thead th {\n",
       "        text-align: right;\n",
       "    }\n",
       "</style>\n",
       "<table border=\"1\" class=\"dataframe\">\n",
       "  <thead>\n",
       "    <tr style=\"text-align: right;\">\n",
       "      <th></th>\n",
       "      <th>Scores Mean</th>\n",
       "    </tr>\n",
       "  </thead>\n",
       "  <tbody>\n",
       "    <tr>\n",
       "      <th>F1</th>\n",
       "      <td>0.762682</td>\n",
       "    </tr>\n",
       "    <tr>\n",
       "      <th>Precision</th>\n",
       "      <td>0.678804</td>\n",
       "    </tr>\n",
       "    <tr>\n",
       "      <th>Recall</th>\n",
       "      <td>0.870967</td>\n",
       "    </tr>\n",
       "    <tr>\n",
       "      <th>ROC AUC</th>\n",
       "      <td>0.682395</td>\n",
       "    </tr>\n",
       "  </tbody>\n",
       "</table>\n",
       "</div>"
      ],
      "text/plain": [
       "           Scores Mean\n",
       "F1            0.762682\n",
       "Precision     0.678804\n",
       "Recall        0.870967\n",
       "ROC AUC       0.682395"
      ]
     },
     "execution_count": 131,
     "metadata": {},
     "output_type": "execute_result"
    }
   ],
   "source": [
    "scores"
   ]
  },
  {
   "cell_type": "code",
   "execution_count": null,
   "metadata": {},
   "outputs": [],
   "source": [
    "\tScores Mean no follow, view\n",
    "F1\t0.780658\n",
    "Precision\t0.716196\n",
    "Recall\t0.858355\n",
    "ROC AUC\t0.691551\n",
    "\n",
    "\tScores Mean no ^ and pages, chapters \n",
    "F1\t0.762682\n",
    "Precision\t0.678804\n",
    "Recall\t0.870967\n",
    "ROC AUC\t0.682395"
   ]
  },
  {
   "cell_type": "code",
   "execution_count": 126,
   "metadata": {},
   "outputs": [
    {
     "data": {
      "text/html": [
       "<div>\n",
       "<style scoped>\n",
       "    .dataframe tbody tr th:only-of-type {\n",
       "        vertical-align: middle;\n",
       "    }\n",
       "\n",
       "    .dataframe tbody tr th {\n",
       "        vertical-align: top;\n",
       "    }\n",
       "\n",
       "    .dataframe thead th {\n",
       "        text-align: right;\n",
       "    }\n",
       "</style>\n",
       "<table border=\"1\" class=\"dataframe\">\n",
       "  <thead>\n",
       "    <tr style=\"text-align: right;\">\n",
       "      <th></th>\n",
       "      <th>F1</th>\n",
       "      <th>Precision</th>\n",
       "      <th>Recall</th>\n",
       "      <th>ROC AUC</th>\n",
       "    </tr>\n",
       "  </thead>\n",
       "  <tbody>\n",
       "    <tr>\n",
       "      <th>0</th>\n",
       "      <td>0.777344</td>\n",
       "      <td>0.695804</td>\n",
       "      <td>0.880531</td>\n",
       "      <td>0.705130</td>\n",
       "    </tr>\n",
       "    <tr>\n",
       "      <th>1</th>\n",
       "      <td>0.794727</td>\n",
       "      <td>0.722603</td>\n",
       "      <td>0.882845</td>\n",
       "      <td>0.705957</td>\n",
       "    </tr>\n",
       "    <tr>\n",
       "      <th>2</th>\n",
       "      <td>0.794872</td>\n",
       "      <td>0.738095</td>\n",
       "      <td>0.861111</td>\n",
       "      <td>0.688417</td>\n",
       "    </tr>\n",
       "    <tr>\n",
       "      <th>3</th>\n",
       "      <td>0.769811</td>\n",
       "      <td>0.713287</td>\n",
       "      <td>0.836066</td>\n",
       "      <td>0.672524</td>\n",
       "    </tr>\n",
       "    <tr>\n",
       "      <th>4</th>\n",
       "      <td>0.766537</td>\n",
       "      <td>0.711191</td>\n",
       "      <td>0.831224</td>\n",
       "      <td>0.685727</td>\n",
       "    </tr>\n",
       "  </tbody>\n",
       "</table>\n",
       "</div>"
      ],
      "text/plain": [
       "         F1  Precision    Recall   ROC AUC\n",
       "0  0.777344   0.695804  0.880531  0.705130\n",
       "1  0.794727   0.722603  0.882845  0.705957\n",
       "2  0.794872   0.738095  0.861111  0.688417\n",
       "3  0.769811   0.713287  0.836066  0.672524\n",
       "4  0.766537   0.711191  0.831224  0.685727"
      ]
     },
     "execution_count": 126,
     "metadata": {},
     "output_type": "execute_result"
    }
   ],
   "source": [
    "all_scores"
   ]
  },
  {
   "cell_type": "code",
   "execution_count": 137,
   "metadata": {},
   "outputs": [
    {
     "data": {
      "text/plain": [
       "RandomForestClassifier(bootstrap=False, max_depth=80, max_features='sqrt',\n",
       "                       min_samples_leaf=2, n_estimators=377, random_state=0)"
      ]
     },
     "execution_count": 137,
     "metadata": {},
     "output_type": "execute_result"
    }
   ],
   "source": [
    "# CV \n",
    "rfc = RandomForestClassifier(random_state=0, **best_params)\n",
    "rfc.fit(X_train, y_train['rating_gte_4'])"
   ]
  },
  {
   "cell_type": "code",
   "execution_count": 140,
   "metadata": {},
   "outputs": [
    {
     "data": {
      "text/plain": [
       "0.7371695178849144"
      ]
     },
     "execution_count": 140,
     "metadata": {},
     "output_type": "execute_result"
    }
   ],
   "source": [
    "f1_score(y_test['rating_gte_4'], rfc.predict(X_test[list(X_train.columns)]))"
   ]
  },
  {
   "cell_type": "code",
   "execution_count": 134,
   "metadata": {},
   "outputs": [],
   "source": [
    "features = pd.DataFrame( {'importance': rfc.feature_importances_}, index = X_train.columns)"
   ]
  },
  {
   "cell_type": "code",
   "execution_count": 136,
   "metadata": {},
   "outputs": [
    {
     "data": {
      "text/html": [
       "<div>\n",
       "<style scoped>\n",
       "    .dataframe tbody tr th:only-of-type {\n",
       "        vertical-align: middle;\n",
       "    }\n",
       "\n",
       "    .dataframe tbody tr th {\n",
       "        vertical-align: top;\n",
       "    }\n",
       "\n",
       "    .dataframe thead th {\n",
       "        text-align: right;\n",
       "    }\n",
       "</style>\n",
       "<table border=\"1\" class=\"dataframe\">\n",
       "  <thead>\n",
       "    <tr style=\"text-align: right;\">\n",
       "      <th></th>\n",
       "      <th>importance</th>\n",
       "    </tr>\n",
       "  </thead>\n",
       "  <tbody>\n",
       "    <tr>\n",
       "      <th>ch2_topic_2</th>\n",
       "      <td>0.029842</td>\n",
       "    </tr>\n",
       "    <tr>\n",
       "      <th>ch3_topic_2</th>\n",
       "      <td>0.029010</td>\n",
       "    </tr>\n",
       "    <tr>\n",
       "      <th>ch4_topic_3</th>\n",
       "      <td>0.025720</td>\n",
       "    </tr>\n",
       "    <tr>\n",
       "      <th>ch4_topic_2</th>\n",
       "      <td>0.023247</td>\n",
       "    </tr>\n",
       "    <tr>\n",
       "      <th>ch5_topic_2</th>\n",
       "      <td>0.022814</td>\n",
       "    </tr>\n",
       "    <tr>\n",
       "      <th>summary_topic_8</th>\n",
       "      <td>0.021481</td>\n",
       "    </tr>\n",
       "    <tr>\n",
       "      <th>summary_topic_0</th>\n",
       "      <td>0.021363</td>\n",
       "    </tr>\n",
       "    <tr>\n",
       "      <th>ch5_topic_3</th>\n",
       "      <td>0.020809</td>\n",
       "    </tr>\n",
       "    <tr>\n",
       "      <th>summary_topic_3</th>\n",
       "      <td>0.020522</td>\n",
       "    </tr>\n",
       "    <tr>\n",
       "      <th>ch1_topic_4</th>\n",
       "      <td>0.020105</td>\n",
       "    </tr>\n",
       "  </tbody>\n",
       "</table>\n",
       "</div>"
      ],
      "text/plain": [
       "                 importance\n",
       "ch2_topic_2        0.029842\n",
       "ch3_topic_2        0.029010\n",
       "ch4_topic_3        0.025720\n",
       "ch4_topic_2        0.023247\n",
       "ch5_topic_2        0.022814\n",
       "summary_topic_8    0.021481\n",
       "summary_topic_0    0.021363\n",
       "ch5_topic_3        0.020809\n",
       "summary_topic_3    0.020522\n",
       "ch1_topic_4        0.020105"
      ]
     },
     "execution_count": 136,
     "metadata": {},
     "output_type": "execute_result"
    }
   ],
   "source": [
    "features.sort_values(by = 'importance', ascending = False)[0:10]"
   ]
  },
  {
   "cell_type": "code",
   "execution_count": null,
   "metadata": {},
   "outputs": [],
   "source": []
  }
 ],
 "metadata": {
  "kernelspec": {
   "display_name": "Python 3",
   "language": "python",
   "name": "python3"
  },
  "language_info": {
   "codemirror_mode": {
    "name": "ipython",
    "version": 3
   },
   "file_extension": ".py",
   "mimetype": "text/x-python",
   "name": "python",
   "nbconvert_exporter": "python",
   "pygments_lexer": "ipython3",
   "version": "3.8.5"
  }
 },
 "nbformat": 4,
 "nbformat_minor": 4
}
