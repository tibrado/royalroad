{
 "cells": [
  {
   "cell_type": "code",
   "execution_count": 1,
   "metadata": {},
   "outputs": [],
   "source": [
    "# Move Books to other directory \n",
    "import shutil\n",
    "import glob"
   ]
  },
  {
   "cell_type": "code",
   "execution_count": null,
   "metadata": {},
   "outputs": [],
   "source": [
    "# Move all books to the books folder \n",
    "all_books = glob.glob(\"../*.txt\")\n",
    "\n",
    "for book in all_books:\n",
    "    path = f\"../books{book.strip('..')}\"\n",
    "    shutil.move(book, path)\n",
    "    \n",
    "%ls ../books"
   ]
  },
  {
   "cell_type": "code",
   "execution_count": 1,
   "metadata": {},
   "outputs": [],
   "source": [
    "# Set up books "
   ]
  },
  {
   "cell_type": "code",
   "execution_count": 2,
   "metadata": {},
   "outputs": [
    {
     "data": {
      "text/plain": [
       "2610"
      ]
     },
     "execution_count": 2,
     "metadata": {},
     "output_type": "execute_result"
    }
   ],
   "source": [
    "# Read First book \n",
    "all_books = glob.glob(\"../books/*.txt\")\n",
    "len(all_books)"
   ]
  },
  {
   "cell_type": "code",
   "execution_count": 3,
   "metadata": {},
   "outputs": [],
   "source": [
    "def read(book):\n",
    "    book = open(book, 'r') # Open file \n",
    "    text = book.read()         # read file\n",
    "    book.close()               # Close file \n",
    "     \n",
    "    # Return as list \n",
    "    return text.split('<;>')\n",
    "\n",
    "def datarize(book):\n",
    "    '''\n",
    "    Parm: List [title, warning, summary, ch1, ch2, ch3, ch4]\n",
    "    Return: Clean \n",
    "    '''\n",
    "    # get title \n",
    "    dirty = book[0].replace('\\n', '').strip()\n",
    "    dirty = dirty.split(' ')\n",
    "    title = ' '.join(dirty[0:-1])\n",
    "    \n",
    "    # get warning \n",
    "    warning = book[1].strip('\\n')\n",
    "    \n",
    "    # get summary \n",
    "    summary = book[2].replace('\\n', ' ')\n",
    "    \n",
    "    # get ch1 \n",
    "    try: ch1 = book[3].replace('\\n', ' ')\n",
    "    except: ch1 = ''\n",
    "    \n",
    "    # get ch2 \n",
    "    try: ch2 = book[4].replace('\\n', ' ')\n",
    "    except: ch2 = ''\n",
    "    \n",
    "    # get ch3 \n",
    "    try: ch3 = book[5].replace('\\n', ' ')\n",
    "    except: ch3 = ''\n",
    "    \n",
    "    # get ch4 \n",
    "    try: ch4 = book[6].replace('\\n', ' ')\n",
    "    except: ch4 = ''\n",
    "    \n",
    "    # get ch5 \n",
    "    try: ch5 = book[7].replace('\\n', ' ')\n",
    "    except: ch5 = ''\n",
    "    \n",
    "    return [title, warning, summary, ch1, ch2, ch3, ch4, ch5]\n",
    "    "
   ]
  },
  {
   "cell_type": "code",
   "execution_count": 22,
   "metadata": {},
   "outputs": [],
   "source": [
    "# Check if all books are of the right length \n",
    "books = []\n",
    "\n",
    "books.append(['title', 'warning', 'summary', 'ch1', 'ch2', 'ch3', 'ch4', 'ch5'])\n",
    "\n",
    "for i, book in enumerate(all_books):\n",
    "    book_info = read(book)\n",
    "    \n",
    "    if (len(book_info) == 8) or (len(book_info) == 4):\n",
    "        books.append(datarize(book_info))\n",
    "    else: \n",
    "        books.append(datarize(book_info[0:8]))"
   ]
  },
  {
   "cell_type": "code",
   "execution_count": 26,
   "metadata": {},
   "outputs": [
    {
     "data": {
      "text/plain": [
       "2611"
      ]
     },
     "execution_count": 26,
     "metadata": {},
     "output_type": "execute_result"
    }
   ],
   "source": [
    "# Books as list\n",
    "# title, warning, summary, ch1, ch2, ch3, ch4, ch5\n",
    "len(books)"
   ]
  },
  {
   "cell_type": "code",
   "execution_count": 24,
   "metadata": {},
   "outputs": [],
   "source": [
    "# Data Frame books \n",
    "import pandas as pd "
   ]
  },
  {
   "cell_type": "code",
   "execution_count": 27,
   "metadata": {},
   "outputs": [
    {
     "data": {
      "text/html": [
       "<div>\n",
       "<style scoped>\n",
       "    .dataframe tbody tr th:only-of-type {\n",
       "        vertical-align: middle;\n",
       "    }\n",
       "\n",
       "    .dataframe tbody tr th {\n",
       "        vertical-align: top;\n",
       "    }\n",
       "\n",
       "    .dataframe thead th {\n",
       "        text-align: right;\n",
       "    }\n",
       "</style>\n",
       "<table border=\"1\" class=\"dataframe\">\n",
       "  <thead>\n",
       "    <tr style=\"text-align: right;\">\n",
       "      <th></th>\n",
       "      <th>title</th>\n",
       "      <th>warning</th>\n",
       "      <th>summary</th>\n",
       "      <th>ch1</th>\n",
       "      <th>ch2</th>\n",
       "      <th>ch3</th>\n",
       "      <th>ch4</th>\n",
       "      <th>ch5</th>\n",
       "    </tr>\n",
       "  </thead>\n",
       "  <tbody>\n",
       "    <tr>\n",
       "      <th>0</th>\n",
       "      <td>Beware Of Chicken</td>\n",
       "      <td></td>\n",
       "      <td>Jin Rou wanted to be a cultivator who defie...</td>\n",
       "      <td>Beware of Chicken In which a transmigrator ...</td>\n",
       "      <td>I jolted awake to Big D’s furious battle cr...</td>\n",
       "      <td>Bi De knew fury. One of the red ones had ve...</td>\n",
       "      <td>There were many ways Meiling expected her d...</td>\n",
       "      <td>Jin surely could have left first thing in t...</td>\n",
       "    </tr>\n",
       "    <tr>\n",
       "      <th>1</th>\n",
       "      <td>The Perfect Run</td>\n",
       "      <td></td>\n",
       "      <td>The Perfect Run is now available on Amazon ...</td>\n",
       "      <td>It was May 8th, 2020 for the third time, an...</td>\n",
       "      <td>Ryan always did science in his underwear. C...</td>\n",
       "      <td>As per the name, the Bakuto was a Japan-the...</td>\n",
       "      <td>It was May 10th, 2020 for the first time, a...</td>\n",
       "      <td>Bugs Bunny. The rabbit was Ryan’s most belo...</td>\n",
       "    </tr>\n",
       "    <tr>\n",
       "      <th>2</th>\n",
       "      <td>Kairos: A Greek Myth LitRPG</td>\n",
       "      <td></td>\n",
       "      <td>It has been centuries since mortals unlocke...</td>\n",
       "      <td>Kairos was coating his spear with poison, w...</td>\n",
       "      <td>It took three days, but home was within sig...</td>\n",
       "      <td>In the marshes north of Lissala, there was ...</td>\n",
       "      <td>When mortal heroes overthrew the old gods d...</td>\n",
       "      <td>The Foresight reached the island of Scheria...</td>\n",
       "    </tr>\n",
       "    <tr>\n",
       "      <th>3</th>\n",
       "      <td>Vigor Mortis</td>\n",
       "      <td></td>\n",
       "      <td>In a world of sky islands orbiting around a...</td>\n",
       "      <td>“Stop, thief!” I can’t help but wonder why ...</td>\n",
       "      <td>I sit in stunned silence for a short moment...</td>\n",
       "      <td>Maybe having parents isn’t all that great a...</td>\n",
       "      <td>“All right, kiddo. How about you tell me th...</td>\n",
       "      <td>Oh no. Oh shit. Act natural. Just act natur...</td>\n",
       "    </tr>\n",
       "    <tr>\n",
       "      <th>4</th>\n",
       "      <td>A Journey of Black and Red</td>\n",
       "      <td></td>\n",
       "      <td>Where am I? What is this! I... I don't reme...</td>\n",
       "      <td>Where… where am I? I take a deep breath in,...</td>\n",
       "      <td>I seethe. The Asian man stares at me with a...</td>\n",
       "      <td>My best friend locks arms with me as we wal...</td>\n",
       "      <td>The last harmonies of the hymn wash over th...</td>\n",
       "      <td>“Aunt Catherine!” “Ma petite chérie, I am s...</td>\n",
       "    </tr>\n",
       "  </tbody>\n",
       "</table>\n",
       "</div>"
      ],
      "text/plain": [
       "                         title warning  \\\n",
       "0            Beware Of Chicken           \n",
       "1              The Perfect Run           \n",
       "2  Kairos: A Greek Myth LitRPG           \n",
       "3                 Vigor Mortis           \n",
       "4   A Journey of Black and Red           \n",
       "\n",
       "                                             summary  \\\n",
       "0     Jin Rou wanted to be a cultivator who defie...   \n",
       "1     The Perfect Run is now available on Amazon ...   \n",
       "2     It has been centuries since mortals unlocke...   \n",
       "3     In a world of sky islands orbiting around a...   \n",
       "4     Where am I? What is this! I... I don't reme...   \n",
       "\n",
       "                                                 ch1  \\\n",
       "0     Beware of Chicken In which a transmigrator ...   \n",
       "1     It was May 8th, 2020 for the third time, an...   \n",
       "2     Kairos was coating his spear with poison, w...   \n",
       "3     “Stop, thief!” I can’t help but wonder why ...   \n",
       "4     Where… where am I? I take a deep breath in,...   \n",
       "\n",
       "                                                 ch2  \\\n",
       "0     I jolted awake to Big D’s furious battle cr...   \n",
       "1     Ryan always did science in his underwear. C...   \n",
       "2     It took three days, but home was within sig...   \n",
       "3     I sit in stunned silence for a short moment...   \n",
       "4     I seethe. The Asian man stares at me with a...   \n",
       "\n",
       "                                                 ch3  \\\n",
       "0     Bi De knew fury. One of the red ones had ve...   \n",
       "1     As per the name, the Bakuto was a Japan-the...   \n",
       "2     In the marshes north of Lissala, there was ...   \n",
       "3     Maybe having parents isn’t all that great a...   \n",
       "4     My best friend locks arms with me as we wal...   \n",
       "\n",
       "                                                 ch4  \\\n",
       "0     There were many ways Meiling expected her d...   \n",
       "1     It was May 10th, 2020 for the first time, a...   \n",
       "2     When mortal heroes overthrew the old gods d...   \n",
       "3     “All right, kiddo. How about you tell me th...   \n",
       "4     The last harmonies of the hymn wash over th...   \n",
       "\n",
       "                                                 ch5  \n",
       "0     Jin surely could have left first thing in t...  \n",
       "1     Bugs Bunny. The rabbit was Ryan’s most belo...  \n",
       "2     The Foresight reached the island of Scheria...  \n",
       "3     Oh no. Oh shit. Act natural. Just act natur...  \n",
       "4     “Aunt Catherine!” “Ma petite chérie, I am s...  "
      ]
     },
     "execution_count": 27,
     "metadata": {},
     "output_type": "execute_result"
    }
   ],
   "source": [
    "df = pd.DataFrame(data = books[1:], columns = books[0])\n",
    "df.head()"
   ]
  },
  {
   "cell_type": "code",
   "execution_count": 34,
   "metadata": {},
   "outputs": [],
   "source": []
  },
  {
   "cell_type": "code",
   "execution_count": null,
   "metadata": {},
   "outputs": [],
   "source": []
  }
 ],
 "metadata": {
  "kernelspec": {
   "display_name": "Python 3",
   "language": "python",
   "name": "python3"
  },
  "language_info": {
   "codemirror_mode": {
    "name": "ipython",
    "version": 3
   },
   "file_extension": ".py",
   "mimetype": "text/x-python",
   "name": "python",
   "nbconvert_exporter": "python",
   "pygments_lexer": "ipython3",
   "version": "3.8.5"
  }
 },
 "nbformat": 4,
 "nbformat_minor": 4
}
